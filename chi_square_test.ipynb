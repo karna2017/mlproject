{
 "cells": [
  {
   "cell_type": "code",
   "execution_count": 2,
   "metadata": {
    "collapsed": true
   },
   "outputs": [],
   "source": [
    "import pandas as pd\n",
    "import numpy as np\n",
    "import scipy.stats as stats\n",
    "from scipy.stats import chi2_contingency"
   ]
  },
  {
   "cell_type": "code",
   "execution_count": 20,
   "metadata": {
    "collapsed": true
   },
   "outputs": [],
   "source": [
    "class ChiSquare:\n",
    "    def __init__(self, dataframe):\n",
    "        self.df = dataframe\n",
    "        self.p = None #P-Value\n",
    "        self.chi2 = None #Chi Test Statistic\n",
    "        self.dof = None\n",
    "        \n",
    "        self.dfObserved = None\n",
    "        self.dfExpected = None\n",
    "        \n",
    "    def _print_chisquare_result(self, colX, alpha):\n",
    "        result = \"\"\n",
    "        if self.p<alpha:\n",
    "            result=\"{0} is IMPORTANT for Prediction\".format(colX)\n",
    "        else:\n",
    "            result=\"{0} is NOT an important predictor. (Discard {0} from model)\".format(colX)\n",
    "\n",
    "        print(result)\n",
    "        \n",
    "    def TestIndependence(self,colX,colY, alpha=0.01):\n",
    "        X = self.df[colX].astype(str)\n",
    "        Y = self.df[colY].astype(str)\n",
    "        \n",
    "        self.dfObserved = pd.crosstab(Y,X) \n",
    "        chi2, p, dof, expected = stats.chi2_contingency(self.dfObserved.values)\n",
    "        self.p = p\n",
    "        self.chi2 = chi2\n",
    "        self.dof = dof \n",
    "        \n",
    "        self.dfExpected = pd.DataFrame(expected, columns=self.dfObserved.columns, index = self.dfObserved.index)\n",
    "        \n",
    "        self._print_chisquare_result(colX,alpha)"
   ]
  },
  {
   "cell_type": "code",
   "execution_count": 6,
   "metadata": {
    "collapsed": true
   },
   "outputs": [],
   "source": [
    "pd.set_option(\"display.max_rows\",150)\n",
    "pd.get_option(\"display.max_rows\")\n",
    "pd.set_option(\"display.max_columns\",250)\n",
    "pd.get_option(\"display.max_columns\")\n",
    "train = pd.read_csv(\"train.csv\")"
   ]
  },
  {
   "cell_type": "code",
   "execution_count": 16,
   "metadata": {
    "collapsed": true
   },
   "outputs": [],
   "source": [
    "CATEGORICAL_COLUMNS = [\"Product_Info_1\", \"Product_Info_2\", \"Product_Info_3\", \"Product_Info_5\", \"Product_Info_6\",\\\n",
    "                       \"Product_Info_7\", \"Employment_Info_2\", \"Employment_Info_3\", \"Employment_Info_5\", \"InsuredInfo_1\",\\\n",
    "                       \"InsuredInfo_2\", \"InsuredInfo_3\", \"InsuredInfo_4\", \"InsuredInfo_5\", \"InsuredInfo_6\", \"InsuredInfo_7\",\\\n",
    "                       \"Insurance_History_1\", \"Insurance_History_2\", \"Insurance_History_3\", \"Insurance_History_4\", \"Insurance_History_7\",\\\n",
    "                       \"Insurance_History_8\", \"Insurance_History_9\", \"Family_Hist_1\", \"Medical_History_2\", \"Medical_History_3\",\\\n",
    "                       \"Medical_History_4\", \"Medical_History_5\", \"Medical_History_6\", \"Medical_History_7\", \"Medical_History_8\",\\\n",
    "                       \"Medical_History_9\", \"Medical_History_11\", \"Medical_History_12\", \"Medical_History_13\", \"Medical_History_14\",\\\n",
    "                       \"Medical_History_16\", \"Medical_History_17\", \"Medical_History_18\", \"Medical_History_19\", \"Medical_History_20\",\\\n",
    "                       \"Medical_History_21\", \"Medical_History_22\", \"Medical_History_23\", \"Medical_History_25\", \"Medical_History_26\",\\\n",
    "                       \"Medical_History_27\", \"Medical_History_28\", \"Medical_History_29\", \"Medical_History_30\", \"Medical_History_31\",\\\n",
    "                       \"Medical_History_33\", \"Medical_History_34\", \"Medical_History_35\", \"Medical_History_36\", \"Medical_History_37\",\\\n",
    "                       \"Medical_History_38\", \"Medical_History_39\", \"Medical_History_40\", \"Medical_History_41\"]\n",
    "DUMMY_COLUMNS = [\"Medical_Keyword_{}\".format(i) for i in range(1, 49)]\n",
    "\n",
    "categorical_data = train[CATEGORICAL_COLUMNS]\n",
    "dummy_data = train[DUMMY_COLUMNS]\n"
   ]
  },
  {
   "cell_type": "code",
   "execution_count": 17,
   "metadata": {
    "collapsed": true
   },
   "outputs": [],
   "source": [
    "#Initialize ChiSquare Class\n",
    "cT = ChiSquare(train)"
   ]
  },
  {
   "cell_type": "code",
   "execution_count": 18,
   "metadata": {},
   "outputs": [
    {
     "name": "stdout",
     "output_type": "stream",
     "text": [
      "Product_Info_1 is IMPORTANT for Prediction\n",
      "Product_Info_2 is IMPORTANT for Prediction\n",
      "Product_Info_3 is IMPORTANT for Prediction\n",
      "Product_Info_5 is IMPORTANT for Prediction\n",
      "Product_Info_6 is IMPORTANT for Prediction\n",
      "Product_Info_7 is IMPORTANT for Prediction\n",
      "Employment_Info_2 is IMPORTANT for Prediction\n",
      "Employment_Info_3 is IMPORTANT for Prediction\n",
      "Employment_Info_5 is IMPORTANT for Prediction\n",
      "InsuredInfo_1 is IMPORTANT for Prediction\n",
      "InsuredInfo_2 is IMPORTANT for Prediction\n",
      "InsuredInfo_3 is IMPORTANT for Prediction\n",
      "InsuredInfo_4 is IMPORTANT for Prediction\n",
      "InsuredInfo_5 is IMPORTANT for Prediction\n",
      "InsuredInfo_6 is IMPORTANT for Prediction\n",
      "InsuredInfo_7 is IMPORTANT for Prediction\n",
      "Insurance_History_1 is IMPORTANT for Prediction\n",
      "Insurance_History_2 is IMPORTANT for Prediction\n",
      "Insurance_History_3 is IMPORTANT for Prediction\n",
      "Insurance_History_4 is IMPORTANT for Prediction\n",
      "Insurance_History_7 is IMPORTANT for Prediction\n",
      "Insurance_History_8 is IMPORTANT for Prediction\n",
      "Insurance_History_9 is IMPORTANT for Prediction\n",
      "Family_Hist_1 is IMPORTANT for Prediction\n",
      "Medical_History_2 is IMPORTANT for Prediction\n",
      "Medical_History_3 is IMPORTANT for Prediction\n",
      "Medical_History_4 is IMPORTANT for Prediction\n",
      "Medical_History_5 is IMPORTANT for Prediction\n",
      "Medical_History_6 is IMPORTANT for Prediction\n",
      "Medical_History_7 is IMPORTANT for Prediction\n",
      "Medical_History_8 is IMPORTANT for Prediction\n",
      "Medical_History_9 is IMPORTANT for Prediction\n",
      "Medical_History_11 is IMPORTANT for Prediction\n",
      "Medical_History_12 is IMPORTANT for Prediction\n",
      "Medical_History_13 is IMPORTANT for Prediction\n",
      "Medical_History_14 is IMPORTANT for Prediction\n",
      "Medical_History_16 is IMPORTANT for Prediction\n",
      "Medical_History_17 is IMPORTANT for Prediction\n",
      "Medical_History_18 is IMPORTANT for Prediction\n",
      "Medical_History_19 is IMPORTANT for Prediction\n",
      "Medical_History_20 is IMPORTANT for Prediction\n",
      "Medical_History_21 is IMPORTANT for Prediction\n",
      "Medical_History_22 is IMPORTANT for Prediction\n",
      "Medical_History_23 is IMPORTANT for Prediction\n",
      "Medical_History_25 is IMPORTANT for Prediction\n",
      "Medical_History_26 is IMPORTANT for Prediction\n",
      "Medical_History_27 is IMPORTANT for Prediction\n",
      "Medical_History_28 is IMPORTANT for Prediction\n",
      "Medical_History_29 is IMPORTANT for Prediction\n",
      "Medical_History_30 is IMPORTANT for Prediction\n",
      "Medical_History_31 is IMPORTANT for Prediction\n",
      "Medical_History_33 is IMPORTANT for Prediction\n",
      "Medical_History_34 is IMPORTANT for Prediction\n",
      "Medical_History_35 is IMPORTANT for Prediction\n",
      "Medical_History_36 is IMPORTANT for Prediction\n",
      "Medical_History_37 is IMPORTANT for Prediction\n",
      "Medical_History_38 is IMPORTANT for Prediction\n",
      "Medical_History_39 is IMPORTANT for Prediction\n",
      "Medical_History_40 is IMPORTANT for Prediction\n",
      "Medical_History_41 is IMPORTANT for Prediction\n"
     ]
    }
   ],
   "source": [
    "#Feature Selection\n",
    "testColumns = ['Embarked','Cabin','Pclass','Age','Name','dummyCat']\n",
    "for var in CATEGORICAL_COLUMNS:\n",
    "    cT.TestIndependence(colX=var,colY=\"Response\" )  "
   ]
  },
  {
   "cell_type": "code",
   "execution_count": 19,
   "metadata": {},
   "outputs": [
    {
     "name": "stdout",
     "output_type": "stream",
     "text": [
      "Medical_Keyword_1 is IMPORTANT for Prediction\n",
      "Medical_Keyword_2 is IMPORTANT for Prediction\n",
      "Medical_Keyword_3 is IMPORTANT for Prediction\n",
      "Medical_Keyword_4 is IMPORTANT for Prediction\n",
      "Medical_Keyword_5 is IMPORTANT for Prediction\n",
      "Medical_Keyword_6 is IMPORTANT for Prediction\n",
      "Medical_Keyword_7 is IMPORTANT for Prediction\n",
      "Medical_Keyword_8 is IMPORTANT for Prediction\n",
      "Medical_Keyword_9 is IMPORTANT for Prediction\n",
      "Medical_Keyword_10 is IMPORTANT for Prediction\n",
      "Medical_Keyword_11 is IMPORTANT for Prediction\n",
      "Medical_Keyword_12 is IMPORTANT for Prediction\n",
      "Medical_Keyword_13 is IMPORTANT for Prediction\n",
      "Medical_Keyword_14 is IMPORTANT for Prediction\n",
      "Medical_Keyword_15 is IMPORTANT for Prediction\n",
      "Medical_Keyword_16 is IMPORTANT for Prediction\n",
      "Medical_Keyword_17 is IMPORTANT for Prediction\n",
      "Medical_Keyword_18 is IMPORTANT for Prediction\n",
      "Medical_Keyword_19 is IMPORTANT for Prediction\n",
      "Medical_Keyword_20 is IMPORTANT for Prediction\n",
      "Medical_Keyword_21 is IMPORTANT for Prediction\n",
      "Medical_Keyword_22 is IMPORTANT for Prediction\n",
      "Medical_Keyword_23 is IMPORTANT for Prediction\n",
      "Medical_Keyword_24 is IMPORTANT for Prediction\n",
      "Medical_Keyword_25 is IMPORTANT for Prediction\n",
      "Medical_Keyword_26 is IMPORTANT for Prediction\n",
      "Medical_Keyword_27 is IMPORTANT for Prediction\n",
      "Medical_Keyword_28 is IMPORTANT for Prediction\n",
      "Medical_Keyword_29 is IMPORTANT for Prediction\n",
      "Medical_Keyword_30 is IMPORTANT for Prediction\n",
      "Medical_Keyword_31 is IMPORTANT for Prediction\n",
      "Medical_Keyword_32 is NOT an important predictor. (Discard Medical_Keyword_32 from model)\n",
      "Medical_Keyword_33 is IMPORTANT for Prediction\n",
      "Medical_Keyword_34 is IMPORTANT for Prediction\n",
      "Medical_Keyword_35 is IMPORTANT for Prediction\n",
      "Medical_Keyword_36 is IMPORTANT for Prediction\n",
      "Medical_Keyword_37 is IMPORTANT for Prediction\n",
      "Medical_Keyword_38 is IMPORTANT for Prediction\n",
      "Medical_Keyword_39 is IMPORTANT for Prediction\n",
      "Medical_Keyword_40 is IMPORTANT for Prediction\n",
      "Medical_Keyword_41 is IMPORTANT for Prediction\n",
      "Medical_Keyword_42 is IMPORTANT for Prediction\n",
      "Medical_Keyword_43 is IMPORTANT for Prediction\n",
      "Medical_Keyword_44 is IMPORTANT for Prediction\n",
      "Medical_Keyword_45 is NOT an important predictor. (Discard Medical_Keyword_45 from model)\n",
      "Medical_Keyword_46 is IMPORTANT for Prediction\n",
      "Medical_Keyword_47 is IMPORTANT for Prediction\n",
      "Medical_Keyword_48 is IMPORTANT for Prediction\n"
     ]
    }
   ],
   "source": [
    "#Feature Selection\n",
    "testColumns = ['Embarked','Cabin','Pclass','Age','Name','dummyCat']\n",
    "for var in DUMMY_COLUMNS:\n",
    "    cT.TestIndependence(colX=var,colY=\"Response\" )  "
   ]
  },
  {
   "cell_type": "code",
   "execution_count": null,
   "metadata": {
    "collapsed": true
   },
   "outputs": [],
   "source": []
  }
 ],
 "metadata": {
  "kernelspec": {
   "display_name": "Python 3",
   "language": "python",
   "name": "python3"
  },
  "language_info": {
   "codemirror_mode": {
    "name": "ipython",
    "version": 3
   },
   "file_extension": ".py",
   "mimetype": "text/x-python",
   "name": "python",
   "nbconvert_exporter": "python",
   "pygments_lexer": "ipython3",
   "version": "3.6.3"
  }
 },
 "nbformat": 4,
 "nbformat_minor": 2
}
